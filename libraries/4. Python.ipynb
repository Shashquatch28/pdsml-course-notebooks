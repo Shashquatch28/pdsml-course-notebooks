{
 "cells": [
  {
   "cell_type": "markdown",
   "id": "fd3c6971-930a-45d4-84a2-d1a1f3228815",
   "metadata": {},
   "source": [
    "# Sets"
   ]
  },
  {
   "cell_type": "code",
   "execution_count": 22,
   "id": "159360c2-283d-4d21-8774-4853128b6a96",
   "metadata": {},
   "outputs": [
    {
     "name": "stdout",
     "output_type": "stream",
     "text": [
      "{1, 2, 3, 4}\n"
     ]
    }
   ],
   "source": [
    "s = {1, 2, 2, 3, 3, 3, 4, 4, 4, 4}\n",
    "print(set)"
   ]
  },
  {
   "cell_type": "code",
   "execution_count": 36,
   "id": "07756ea3-6ced-4244-a9f1-c6afade705df",
   "metadata": {},
   "outputs": [
    {
     "name": "stdout",
     "output_type": "stream",
     "text": [
      "{1, 2, 3, 4, 5}\n"
     ]
    }
   ],
   "source": [
    "s = {1, 2, 2, 3, 3, 3, 4, 4, 4, 4}\n",
    "s.add(5)\n",
    "print(s)"
   ]
  },
  {
   "cell_type": "code",
   "execution_count": 40,
   "id": "5d04c4ae-f0f6-41d2-9c8c-c908780e2456",
   "metadata": {},
   "outputs": [
    {
     "name": "stdout",
     "output_type": "stream",
     "text": [
      "Yes\n"
     ]
    }
   ],
   "source": [
    "if 1==1:\n",
    "    print(\"Yes\")"
   ]
  },
  {
   "cell_type": "markdown",
   "id": "f43ece98-f50b-4e52-bd4f-2a66c41b5e1e",
   "metadata": {},
   "source": [
    "# For Loop"
   ]
  },
  {
   "cell_type": "code",
   "execution_count": 45,
   "id": "3d340c93-5ea5-41bf-8a0c-0e5e53716fd4",
   "metadata": {},
   "outputs": [
    {
     "name": "stdout",
     "output_type": "stream",
     "text": [
      "1 2 3 4 5 "
     ]
    }
   ],
   "source": [
    "seq = [1, 2, 3, 4, 5]\n",
    "for item in seq:\n",
    "    print(item, end = \" \")"
   ]
  },
  {
   "cell_type": "markdown",
   "id": "0f5dfba5-7640-4554-9e3d-2f111ab43a12",
   "metadata": {},
   "source": [
    "# While Loop\n"
   ]
  },
  {
   "cell_type": "code",
   "execution_count": 50,
   "id": "f98a011b-31e1-4365-b223-80f5aa4ef302",
   "metadata": {},
   "outputs": [
    {
     "name": "stdout",
     "output_type": "stream",
     "text": [
      "1 2 3 4 "
     ]
    }
   ],
   "source": [
    "i = 1 \n",
    "\n",
    "while i<5:\n",
    "    print(i, end = \" \")\n",
    "    i+=1"
   ]
  },
  {
   "cell_type": "code",
   "execution_count": 134,
   "id": "9cb2fbcf-a6cd-477d-90cf-574a0ca7c698",
   "metadata": {},
   "outputs": [
    {
     "name": "stdout",
     "output_type": "stream",
     "text": [
      "[0, 1, 2, 3, 4]\n"
     ]
    }
   ],
   "source": [
    "l_eg = [*range(5)]\n",
    "print(l_eg)"
   ]
  },
  {
   "cell_type": "code",
   "execution_count": 68,
   "id": "6474d6aa-a22c-4df5-8703-f7a314af337a",
   "metadata": {},
   "outputs": [
    {
     "name": "stdout",
     "output_type": "stream",
     "text": [
      "[1, 8, 27, 64]\n"
     ]
    }
   ],
   "source": [
    "x = [1, 2, 3, 4]\n",
    "out = []\n",
    "for i in x:\n",
    "    out.append(i**3)\n",
    "print(out)"
   ]
  },
  {
   "cell_type": "code",
   "execution_count": 72,
   "id": "e180fd8b-6117-41d6-ae55-dfaae63995a5",
   "metadata": {},
   "outputs": [
    {
     "name": "stdout",
     "output_type": "stream",
     "text": [
      "[1, 8, 27, 64]\n"
     ]
    }
   ],
   "source": [
    "x = [1, 2, 3, 4]\n",
    "a = [i**3 for i in x]\n",
    "print(a)"
   ]
  },
  {
   "cell_type": "markdown",
   "id": "5fa698dc-112a-4460-aa75-911614bd4350",
   "metadata": {},
   "source": [
    "# Functions"
   ]
  },
  {
   "cell_type": "code",
   "execution_count": 85,
   "id": "ba27ad08-daf8-49dc-8157-2d5625db92f8",
   "metadata": {},
   "outputs": [
    {
     "name": "stdout",
     "output_type": "stream",
     "text": [
      "Hello Shashwat\n"
     ]
    }
   ],
   "source": [
    "def name(name):\n",
    "    print(\"Hello\", name)\n",
    "\n",
    "name(\"Shashwat\")"
   ]
  },
  {
   "cell_type": "code",
   "execution_count": 91,
   "id": "01277ebf-5c35-465d-af8f-0e3abe5ccac3",
   "metadata": {},
   "outputs": [
    {
     "data": {
      "text/plain": [
       "25"
      ]
     },
     "execution_count": 91,
     "metadata": {},
     "output_type": "execute_result"
    }
   ],
   "source": [
    "def square(num):\n",
    "    return num**2\n",
    "\n",
    "square(5)"
   ]
  },
  {
   "cell_type": "markdown",
   "id": "c53ce1b5-c6b4-48dc-ab43-b557e8106824",
   "metadata": {},
   "source": [
    "# Docstrings\n"
   ]
  },
  {
   "cell_type": "code",
   "execution_count": 94,
   "id": "8b67ef99-f58a-449c-8ce0-a3c4a8903c1a",
   "metadata": {},
   "outputs": [
    {
     "name": "stdout",
     "output_type": "stream",
     "text": [
      " Function returns the square of a number\n"
     ]
    }
   ],
   "source": [
    "def square(num):\n",
    "    ''' Function returns the square of a number'''\n",
    "    return num**2\n",
    "\n",
    "square(5)\n",
    "print(square.__doc__)"
   ]
  },
  {
   "cell_type": "markdown",
   "id": "52ddc87a-76ff-470d-97af-57325ff17cdf",
   "metadata": {},
   "source": [
    "# Map( ) Function\n"
   ]
  },
  {
   "cell_type": "markdown",
   "id": "9b0c2f2e-d6fa-4d15-9d80-f82080a7c3d8",
   "metadata": {},
   "source": [
    "def times(num):\n",
    "    return num*2\n",
    "\n",
    "list_1 = [1, 2, 3]\n",
    "\n",
    "list_2 = list(map(times, list_1))\n",
    "print(list_2)"
   ]
  },
  {
   "cell_type": "markdown",
   "id": "81b3bf84-ebff-4c98-a632-787b8fd2b2f5",
   "metadata": {},
   "source": [
    "# Lambda Functions "
   ]
  },
  {
   "cell_type": "markdown",
   "id": "29949837-088d-4a96-a637-97be90fd960b",
   "metadata": {},
   "source": [
    "x = [*range(1,5)]\n",
    "\n",
    "y = list(map(lambda num:num**2, x))\n",
    "print(y)"
   ]
  },
  {
   "cell_type": "markdown",
   "id": "a9370513-e6d4-4d8d-b2d1-606b855e864b",
   "metadata": {},
   "source": [
    "# Filter( ) Function\n"
   ]
  },
  {
   "cell_type": "markdown",
   "id": "15301201-1888-4aa9-a22c-0460bd358b0f",
   "metadata": {},
   "source": [
    "seq = [*range(20)]\n",
    "print(list(filter(lambda num: num%2==0, seq)))\n"
   ]
  },
  {
   "cell_type": "markdown",
   "id": "e4fce19a-b05b-4f38-8c30-1ede1e997f76",
   "metadata": {},
   "source": [
    "# Methods\n"
   ]
  },
  {
   "cell_type": "code",
   "execution_count": 161,
   "id": "c1c0bda2-688d-4b36-87da-3cfd00bc8951",
   "metadata": {},
   "outputs": [
    {
     "name": "stdout",
     "output_type": "stream",
     "text": [
      "[0, 1, 2, 3]\n",
      "[0, 1, 2]\n"
     ]
    }
   ],
   "source": [
    "lis = [*range(4)]\n",
    "print(lis)\n",
    "\n",
    "lis.pop()\n",
    "print(lis)"
   ]
  },
  {
   "cell_type": "code",
   "execution_count": 163,
   "id": "b56fac9d-f16e-45b9-8726-f0014e80073f",
   "metadata": {},
   "outputs": [
    {
     "data": {
      "text/plain": [
       "True"
      ]
     },
     "execution_count": 163,
     "metadata": {},
     "output_type": "execute_result"
    }
   ],
   "source": [
    "m = \"Machine Learning\"\n",
    "\"Mach\" in m"
   ]
  },
  {
   "cell_type": "markdown",
   "id": "faeb35d1-e14f-4e27-914f-9162bf73f80f",
   "metadata": {},
   "source": [
    "# Tuple Unpacking "
   ]
  },
  {
   "cell_type": "code",
   "execution_count": 170,
   "id": "ef026476-bbad-463b-97bf-1f6c5eef56fd",
   "metadata": {},
   "outputs": [
    {
     "name": "stdout",
     "output_type": "stream",
     "text": [
      "(1, 2)\n",
      "(3, 4)\n",
      "(5, 6)\n"
     ]
    }
   ],
   "source": [
    "seq = [(1, 2), (3, 4), (5, 6)]\n",
    "for item in seq:\n",
    "    print(item)\n"
   ]
  },
  {
   "cell_type": "code",
   "execution_count": 174,
   "id": "ca77e832-f3f0-4f95-ae8e-97d23dc69030",
   "metadata": {},
   "outputs": [
    {
     "name": "stdout",
     "output_type": "stream",
     "text": [
      "1\n",
      "3\n",
      "5\n"
     ]
    }
   ],
   "source": [
    "seq = [(1, 2), (3, 4), (5, 6)]\n",
    "for (a,b) in seq:\n",
    "    print(a)\n",
    "    \n",
    "   \n"
   ]
  },
  {
   "cell_type": "code",
   "execution_count": 176,
   "id": "9d66db0f-f418-4d4f-b0a4-fb9da8fc3d3f",
   "metadata": {},
   "outputs": [
    {
     "name": "stdout",
     "output_type": "stream",
     "text": [
      "1\n",
      "2\n",
      "3\n",
      "4\n",
      "5\n",
      "6\n"
     ]
    }
   ],
   "source": [
    "eq = [(1, 2), (3, 4), (5, 6)]\n",
    "for (a,b) in seq:\n",
    "    print(a)\n",
    "    print(b)\n",
    "    "
   ]
  },
  {
   "cell_type": "code",
   "execution_count": 180,
   "id": "1698f2ea-b8d9-47dd-9b55-1d9de9caa90e",
   "metadata": {},
   "outputs": [
    {
     "name": "stdout",
     "output_type": "stream",
     "text": [
      "1 2\n",
      "3 4\n",
      "5 6\n"
     ]
    }
   ],
   "source": [
    "eq = [(1, 2), (3, 4), (5, 6)]\n",
    "for (a,b) in seq:\n",
    "    print(a,b)\n",
    "    "
   ]
  },
  {
   "cell_type": "code",
   "execution_count": null,
   "id": "c35e91b1-e211-4f64-bf11-a2b705f54063",
   "metadata": {},
   "outputs": [],
   "source": []
  }
 ],
 "metadata": {
  "kernelspec": {
   "display_name": "Python 3 (ipykernel)",
   "language": "python",
   "name": "python3"
  },
  "language_info": {
   "codemirror_mode": {
    "name": "ipython",
    "version": 3
   },
   "file_extension": ".py",
   "mimetype": "text/x-python",
   "name": "python",
   "nbconvert_exporter": "python",
   "pygments_lexer": "ipython3",
   "version": "3.12.7"
  }
 },
 "nbformat": 4,
 "nbformat_minor": 5
}
