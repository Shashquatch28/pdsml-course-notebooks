{
 "cells": [
  {
   "cell_type": "markdown",
   "id": "b9588d16-16bf-42cf-8310-d95857451a24",
   "metadata": {},
   "source": [
    "# NumPy Arrays\n"
   ]
  },
  {
   "cell_type": "code",
   "execution_count": 5,
   "id": "20998217-1460-4504-95cc-9f8132d7f41d",
   "metadata": {},
   "outputs": [
    {
     "name": "stdout",
     "output_type": "stream",
     "text": [
      "[1, 2, 3]\n"
     ]
    }
   ],
   "source": [
    "lst_1 = [1,2,3]\n",
    "print(lst_1)"
   ]
  },
  {
   "cell_type": "code",
   "execution_count": 7,
   "id": "d7654380-9162-46a0-9d3e-c73ddfbcba7d",
   "metadata": {},
   "outputs": [],
   "source": [
    "import numpy as np\n",
    "arr = np.array(lst_1)"
   ]
  },
  {
   "cell_type": "code",
   "execution_count": 8,
   "id": "c036fe0d-4802-4d25-92d0-ffa99f84ec97",
   "metadata": {},
   "outputs": [
    {
     "data": {
      "text/plain": [
       "array([[1, 2, 3],\n",
       "       [4, 5, 6],\n",
       "       [7, 8, 9]])"
      ]
     },
     "execution_count": 8,
     "metadata": {},
     "output_type": "execute_result"
    }
   ],
   "source": [
    "lst_2 = [[1,2,3], [4,5,6], [7,8,9]]\n",
    "np.array(lst_2)"
   ]
  },
  {
   "cell_type": "markdown",
   "id": "fffd1d85-05ca-428b-8a7a-220683430cfc",
   "metadata": {},
   "source": [
    "## arange() Function"
   ]
  },
  {
   "cell_type": "code",
   "execution_count": 17,
   "id": "77db74e2-9423-4aeb-b569-5a397fbd1de4",
   "metadata": {},
   "outputs": [
    {
     "name": "stdout",
     "output_type": "stream",
     "text": [
      "[ 0  2  4  6  8 10]\n"
     ]
    }
   ],
   "source": [
    "import numpy as np\n",
    "\n",
    "arr_1 = np.arange(0,11,2)\n",
    "print(arr_1)"
   ]
  },
  {
   "cell_type": "markdown",
   "id": "eec0e067-1c2e-4e11-ad3a-83f84c8fa1b6",
   "metadata": {},
   "source": [
    "### .zeros() & .ones()"
   ]
  },
  {
   "cell_type": "code",
   "execution_count": 4,
   "id": "c180aad5-ca3f-4833-bcf0-4510dd31b5df",
   "metadata": {},
   "outputs": [
    {
     "data": {
      "text/plain": [
       "array([0., 0., 0.])"
      ]
     },
     "execution_count": 4,
     "metadata": {},
     "output_type": "execute_result"
    }
   ],
   "source": [
    "import numpy as np\n",
    "\n",
    "np.zeros(3)"
   ]
  },
  {
   "cell_type": "code",
   "execution_count": 6,
   "id": "1b28d335-a92c-4719-9bc2-8dfb4ccb5ff6",
   "metadata": {},
   "outputs": [
    {
     "data": {
      "text/plain": [
       "array([[0., 0., 0.],\n",
       "       [0., 0., 0.],\n",
       "       [0., 0., 0.]])"
      ]
     },
     "execution_count": 6,
     "metadata": {},
     "output_type": "execute_result"
    }
   ],
   "source": [
    "import numpy as np\n",
    "\n",
    "np.zeros((3,3))"
   ]
  },
  {
   "cell_type": "code",
   "execution_count": 8,
   "id": "8c3ceec2-c6a5-4da6-8407-48e1cbd812b1",
   "metadata": {},
   "outputs": [
    {
     "data": {
      "text/plain": [
       "array([[1., 1., 1.],\n",
       "       [1., 1., 1.]])"
      ]
     },
     "execution_count": 8,
     "metadata": {},
     "output_type": "execute_result"
    }
   ],
   "source": [
    "import numpy as np\n",
    "\n",
    "np.ones((2,3))"
   ]
  },
  {
   "cell_type": "code",
   "execution_count": 10,
   "id": "3bde781a-f03e-498a-b89c-09113bbbd18c",
   "metadata": {},
   "outputs": [
    {
     "data": {
      "text/plain": [
       "array([1. , 1.5, 2. , 2.5, 3. ])"
      ]
     },
     "execution_count": 10,
     "metadata": {},
     "output_type": "execute_result"
    }
   ],
   "source": [
    "import numpy as np\n",
    "\n",
    "np.linspace(1,3,5)"
   ]
  },
  {
   "cell_type": "code",
   "execution_count": 16,
   "id": "0a2eada8-8081-416c-a93e-51a164ffcd2c",
   "metadata": {},
   "outputs": [
    {
     "data": {
      "text/plain": [
       "array([[[1., 1., 1.],\n",
       "        [1., 1., 1.]]])"
      ]
     },
     "execution_count": 16,
     "metadata": {},
     "output_type": "execute_result"
    }
   ],
   "source": [
    "import numpy as np\n",
    "\n",
    "np.ones((1,2,3))"
   ]
  },
  {
   "cell_type": "markdown",
   "id": "61854bc2-5bf6-4d8e-a8c4-f45e961923b5",
   "metadata": {},
   "source": [
    "### Identity Matrix"
   ]
  },
  {
   "cell_type": "code",
   "execution_count": 19,
   "id": "298ab096-3c14-4d48-aac7-62c44f4fb8e1",
   "metadata": {},
   "outputs": [
    {
     "data": {
      "text/plain": [
       "array([[1., 0., 0.],\n",
       "       [0., 1., 0.],\n",
       "       [0., 0., 1.]])"
      ]
     },
     "execution_count": 19,
     "metadata": {},
     "output_type": "execute_result"
    }
   ],
   "source": [
    "import numpy as np\n",
    "\n",
    "np.eye(3)"
   ]
  },
  {
   "cell_type": "markdown",
   "id": "b3cc089e-8b00-4923-9b64-c7f0ec1643a1",
   "metadata": {},
   "source": [
    "#### Random Matrix\n"
   ]
  },
  {
   "cell_type": "code",
   "execution_count": 22,
   "id": "cfadb53b-afdd-40df-8d6c-b3ce2104a3fc",
   "metadata": {},
   "outputs": [
    {
     "data": {
      "text/plain": [
       "array([0.68821793, 0.56029658, 0.92133874, 0.3854493 , 0.23426639])"
      ]
     },
     "execution_count": 22,
     "metadata": {},
     "output_type": "execute_result"
    }
   ],
   "source": [
    "import numpy as np\n",
    "\n",
    "np.random.rand(5)"
   ]
  },
  {
   "cell_type": "code",
   "execution_count": 28,
   "id": "729dff5f-67e8-441a-8f4c-b7a8d934e787",
   "metadata": {},
   "outputs": [
    {
     "data": {
      "text/plain": [
       "array([[0.35343337, 0.45851574, 0.84393374],\n",
       "       [0.58586801, 0.68601881, 0.10634565]])"
      ]
     },
     "execution_count": 28,
     "metadata": {},
     "output_type": "execute_result"
    }
   ],
   "source": [
    "import numpy as np\n",
    "\n",
    "np.random.rand(2,3)"
   ]
  },
  {
   "cell_type": "code",
   "execution_count": 30,
   "id": "9aa572d5-8e01-4212-b7f6-f18fff08a86a",
   "metadata": {},
   "outputs": [
    {
     "data": {
      "text/plain": [
       "array([[ 1.06399615, -0.42922077,  0.84537385],\n",
       "       [-0.36444844,  0.4788225 , -0.32259135]])"
      ]
     },
     "execution_count": 30,
     "metadata": {},
     "output_type": "execute_result"
    }
   ],
   "source": [
    "import numpy as np\n",
    "\n",
    "np.random.randn(2,3)"
   ]
  },
  {
   "cell_type": "code",
   "execution_count": 32,
   "id": "662bddc2-95e6-4226-88fb-0745cd0ec24d",
   "metadata": {},
   "outputs": [
    {
     "data": {
      "text/plain": [
       "array([64, 81, 69, 46, 22])"
      ]
     },
     "execution_count": 32,
     "metadata": {},
     "output_type": "execute_result"
    }
   ],
   "source": [
    "import numpy as np\n",
    "\n",
    "np.random.randint(1, 100, 5)"
   ]
  },
  {
   "cell_type": "markdown",
   "id": "342746fb-98f8-44d1-8dbe-4dfc505f393f",
   "metadata": {},
   "source": [
    "## Array Mehthods"
   ]
  },
  {
   "cell_type": "code",
   "execution_count": 41,
   "id": "e9b67f7b-fed4-4811-b2c9-06ffb8719cb8",
   "metadata": {},
   "outputs": [
    {
     "name": "stdout",
     "output_type": "stream",
     "text": [
      "[0 1 2 3 4 5 6 7 8]\n",
      "[[0 1 2]\n",
      " [3 4 5]\n",
      " [6 7 8]]\n"
     ]
    }
   ],
   "source": [
    "import numpy as np\n",
    "arr = np.arange(9)\n",
    "print(arr)\n",
    "\n",
    "arr = arr.reshape(3,3)\n",
    "print(arr)"
   ]
  },
  {
   "cell_type": "code",
   "execution_count": 67,
   "id": "5f22dfd3-2a11-491c-8c74-7327cc62c351",
   "metadata": {},
   "outputs": [
    {
     "name": "stdout",
     "output_type": "stream",
     "text": [
      "[15 14  9  5  8  8 16  8  7  8]\n",
      "16\n"
     ]
    }
   ],
   "source": [
    "import numpy as np\n",
    "\n",
    "ranarr = np.random.randint(1,25, 10)\n",
    "print(ranarr)\n",
    "\n",
    "print(ranarr.max())\n"
   ]
  },
  {
   "cell_type": "code",
   "execution_count": 69,
   "id": "88323da7-3226-48da-abe1-3c5eb156f6fb",
   "metadata": {},
   "outputs": [
    {
     "name": "stdout",
     "output_type": "stream",
     "text": [
      "[18 20  4 18  9 21  4 12  8 22]\n",
      "4\n"
     ]
    }
   ],
   "source": [
    "import numpy as np\n",
    "\n",
    "ranarr = np.random.randint(1,25, 10)\n",
    "print(ranarr)\n",
    "\n",
    "print(ranarr.min())"
   ]
  },
  {
   "cell_type": "code",
   "execution_count": 75,
   "id": "ed9aa3b8-d978-4dea-b4cd-37cb7120bf80",
   "metadata": {},
   "outputs": [
    {
     "name": "stdout",
     "output_type": "stream",
     "text": [
      "[18 20  4 18  9 21  4 12  8 22]\n",
      "2\n"
     ]
    }
   ],
   "source": [
    "print(ranarr)\n",
    "print(ranarr.argmin())"
   ]
  },
  {
   "cell_type": "code",
   "execution_count": 91,
   "id": "04bd01af-a3e5-47fc-b8a5-f1a4462fa49e",
   "metadata": {},
   "outputs": [
    {
     "name": "stdout",
     "output_type": "stream",
     "text": [
      "[0 1 2 3 4 5 6 7 8 9]\n",
      "[100 100 100 100 100   5   6   7   8   9]\n"
     ]
    }
   ],
   "source": [
    "arr = np.arange(0,10)\n",
    "print(arr)\n",
    "\n",
    "arr[0:5] = 100\n",
    "print(arr)\n",
    "\n",
    "\n"
   ]
  },
  {
   "cell_type": "code",
   "execution_count": 99,
   "id": "4560962d-4ccd-4e14-93fe-8493fbbf41fd",
   "metadata": {},
   "outputs": [
    {
     "name": "stdout",
     "output_type": "stream",
     "text": [
      "[ 0  1  2  3  4  5  6  7  8  9 10]\n",
      "[100 100 100 100 100 100 100 100 100 100 100]\n"
     ]
    }
   ],
   "source": [
    "arr_1 = np.arange(0, 11)\n",
    "arr_copy = arr_1.copy()\n",
    "arr_copy[:] = 100\n",
    "\n",
    "print(arr_1)\n",
    "print(arr_copy)"
   ]
  },
  {
   "cell_type": "code",
   "execution_count": 115,
   "id": "5e5402a3-ba73-4ea7-9d07-b8ee834d8a65",
   "metadata": {},
   "outputs": [
    {
     "data": {
      "text/plain": [
       "5"
      ]
     },
     "execution_count": 115,
     "metadata": {},
     "output_type": "execute_result"
    }
   ],
   "source": [
    "arr_2D = np.array([[5, 10, 15], [20, 25, 30], [35, 40, 45]])\n",
    "(arr_2D)\n",
    "\n",
    "arr_2D[0][0]"
   ]
  },
  {
   "cell_type": "code",
   "execution_count": 117,
   "id": "743a79a6-c1bc-41ba-bbb8-d051a21c2960",
   "metadata": {},
   "outputs": [
    {
     "data": {
      "text/plain": [
       "5"
      ]
     },
     "execution_count": 117,
     "metadata": {},
     "output_type": "execute_result"
    }
   ],
   "source": [
    "arr_2D = np.array([[5, 10, 15], [20, 25, 30], [35, 40, 45]])\n",
    "(arr_2D)\n",
    "\n",
    "arr_2D[0,0]"
   ]
  },
  {
   "cell_type": "code",
   "execution_count": 123,
   "id": "e9bc4486-7047-43e7-9dc0-4aec2da88fa2",
   "metadata": {},
   "outputs": [
    {
     "data": {
      "text/plain": [
       "array([[10, 15],\n",
       "       [25, 30]])"
      ]
     },
     "execution_count": 123,
     "metadata": {},
     "output_type": "execute_result"
    }
   ],
   "source": [
    "arr_2D = np.array([[5, 10, 15], [20, 25, 30], [35, 40, 45]])\n",
    "arr_2D[:2, 1:]"
   ]
  },
  {
   "cell_type": "code",
   "execution_count": 145,
   "id": "455e6727-55fd-457e-9858-bacff5662121",
   "metadata": {},
   "outputs": [
    {
     "data": {
      "text/plain": [
       "array([ 6,  7,  8,  9, 10])"
      ]
     },
     "execution_count": 145,
     "metadata": {},
     "output_type": "execute_result"
    }
   ],
   "source": [
    "arr = np.arange(0,11)\n",
    "arr_bool = arr > 5\n",
    "arr[arr_bool]"
   ]
  },
  {
   "cell_type": "code",
   "execution_count": 147,
   "id": "9c3b4fec-02dc-4370-b90a-2dff68c0f4fe",
   "metadata": {},
   "outputs": [
    {
     "data": {
      "text/plain": [
       "array([ 6,  7,  8,  9, 10])"
      ]
     },
     "execution_count": 147,
     "metadata": {},
     "output_type": "execute_result"
    }
   ],
   "source": [
    "arr[arr>5]"
   ]
  },
  {
   "cell_type": "markdown",
   "id": "f3ffa8ed-5aa8-44d0-a8fc-56979b3b2fc5",
   "metadata": {},
   "source": [
    "# NumPy Operations"
   ]
  },
  {
   "cell_type": "markdown",
   "id": "d4a8e322-7990-4c7c-8e01-dd4dda7bc50a",
   "metadata": {},
   "source": [
    "## Array w Array Operations"
   ]
  },
  {
   "cell_type": "code",
   "execution_count": 27,
   "id": "4b1c1431-8594-4b0f-a7f4-28a80d49327f",
   "metadata": {},
   "outputs": [
    {
     "data": {
      "text/plain": [
       "array([[14, 30],\n",
       "       [38, 86]])"
      ]
     },
     "execution_count": 27,
     "metadata": {},
     "output_type": "execute_result"
    }
   ],
   "source": [
    "matrix1 = np.array([[1, 3], \n",
    "             \t\t[5, 7]])\n",
    "             \n",
    "matrix2 = np.array([[2, 6], \n",
    "                    [4, 8]])\n",
    "\n",
    "result = np.dot(matrix1, matrix2)\n",
    "\n",
    "result"
   ]
  },
  {
   "cell_type": "code",
   "execution_count": 181,
   "id": "e62a15ea-0df7-4b2e-9800-689a579e4f04",
   "metadata": {},
   "outputs": [
    {
     "name": "stdout",
     "output_type": "stream",
     "text": [
      "[ 0  1  2  3  4  5  6  7  8  9 10]\n",
      "[ 0  2  4  6  8 10 12 14 16 18 20]\n",
      "[0 0 0 0 0 0 0 0 0 0 0]\n",
      "[  0   1   4   9  16  25  36  49  64  81 100]\n"
     ]
    }
   ],
   "source": [
    "arr = np.arange(0,11)\n",
    "print(arr)\n",
    "print(arr+arr)\n",
    "print(arr-arr)\n",
    "print(arr*arr)"
   ]
  },
  {
   "cell_type": "markdown",
   "id": "4bb4fc5a-2ae9-45ce-a284-e27f83bdc64b",
   "metadata": {},
   "source": [
    "## Scalar w Array"
   ]
  },
  {
   "cell_type": "code",
   "execution_count": 186,
   "id": "b491ac10-9fc5-47e0-b26d-8bb02ac9d2c1",
   "metadata": {},
   "outputs": [
    {
     "data": {
      "text/plain": [
       "array([100, 101, 102, 103, 104, 105, 106, 107, 108, 109, 110])"
      ]
     },
     "execution_count": 186,
     "metadata": {},
     "output_type": "execute_result"
    }
   ],
   "source": [
    "arr + 100\n"
   ]
  },
  {
   "cell_type": "code",
   "execution_count": 188,
   "id": "545f42e5-164f-4140-b04a-003ad173e233",
   "metadata": {},
   "outputs": [
    {
     "data": {
      "text/plain": [
       "array([0.        , 1.        , 1.41421356, 1.73205081, 2.        ,\n",
       "       2.23606798, 2.44948974, 2.64575131, 2.82842712, 3.        ,\n",
       "       3.16227766])"
      ]
     },
     "execution_count": 188,
     "metadata": {},
     "output_type": "execute_result"
    }
   ],
   "source": [
    "np.sqrt(arr)"
   ]
  },
  {
   "cell_type": "code",
   "execution_count": 190,
   "id": "ac09e697-31c5-4c94-959c-c98ced053a87",
   "metadata": {},
   "outputs": [
    {
     "data": {
      "text/plain": [
       "array([1.00000000e+00, 2.71828183e+00, 7.38905610e+00, 2.00855369e+01,\n",
       "       5.45981500e+01, 1.48413159e+02, 4.03428793e+02, 1.09663316e+03,\n",
       "       2.98095799e+03, 8.10308393e+03, 2.20264658e+04])"
      ]
     },
     "execution_count": 190,
     "metadata": {},
     "output_type": "execute_result"
    }
   ],
   "source": [
    "np.exp(arr)"
   ]
  },
  {
   "cell_type": "code",
   "execution_count": null,
   "id": "0fbefef0-f0fb-44bf-a031-17bb0094dbd3",
   "metadata": {},
   "outputs": [],
   "source": []
  }
 ],
 "metadata": {
  "kernelspec": {
   "display_name": "Python 3 (ipykernel)",
   "language": "python",
   "name": "python3"
  },
  "language_info": {
   "codemirror_mode": {
    "name": "ipython",
    "version": 3
   },
   "file_extension": ".py",
   "mimetype": "text/x-python",
   "name": "python",
   "nbconvert_exporter": "python",
   "pygments_lexer": "ipython3",
   "version": "3.12.3"
  }
 },
 "nbformat": 4,
 "nbformat_minor": 5
}
